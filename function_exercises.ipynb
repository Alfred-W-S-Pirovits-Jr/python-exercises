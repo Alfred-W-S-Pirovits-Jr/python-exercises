{
 "cells": [
  {
   "cell_type": "code",
   "execution_count": 4,
   "id": "4d689e45",
   "metadata": {},
   "outputs": [
    {
     "data": {
      "text/plain": [
       "True"
      ]
     },
     "execution_count": 4,
     "metadata": {},
     "output_type": "execute_result"
    }
   ],
   "source": [
    "def is_two(n):\n",
    "    return n == 2 or n == '2'\n",
    "\n",
    "is_two(2)"
   ]
  },
  {
   "cell_type": "code",
   "execution_count": 16,
   "id": "3d303ae5",
   "metadata": {},
   "outputs": [
    {
     "data": {
      "text/plain": [
       "False"
      ]
     },
     "execution_count": 16,
     "metadata": {},
     "output_type": "execute_result"
    }
   ],
   "source": [
    "def is_vowel(v):\n",
    "    vowel_list = ['a', 'e', 'i', 'o', 'u', 'A', 'E', 'I', 'O', 'U']\n",
    "    return v in vowel_list and len(v) == 1\n",
    "is_vowel('e')\n"
   ]
  },
  {
   "cell_type": "code",
   "execution_count": 17,
   "id": "c3d69533",
   "metadata": {},
   "outputs": [
    {
     "data": {
      "text/plain": [
       "True"
      ]
     },
     "execution_count": 17,
     "metadata": {},
     "output_type": "execute_result"
    }
   ],
   "source": [
    "def is_consonant(c):\n",
    "    vowel_list = ['a', 'e', 'i', 'o', 'u', 'A', 'E', 'I', 'O', 'U']\n",
    "    return c not in vowel_list and len(c) == 1\n",
    "is_consonant('x')"
   ]
  },
  {
   "cell_type": "code",
   "execution_count": 31,
   "id": "065d07bb",
   "metadata": {},
   "outputs": [
    {
     "data": {
      "text/plain": [
       "'Tkjfdashjkh'"
      ]
     },
     "execution_count": 31,
     "metadata": {},
     "output_type": "execute_result"
    }
   ],
   "source": [
    "def cap_first_letter(word): #NOT DONE!!! lowercasing all letters then capitalizing the first\n",
    "    vowel_list = ['a', 'e', 'i', 'o', 'u', 'A', 'E', 'I', 'O', 'U']\n",
    "    l = []\n",
    "    new_word = ''\n",
    "    word = word.lower()\n",
    "    l = list(word)\n",
    "    if l[0] not in vowel_list:\n",
    "        l[0] = l[0].upper()\n",
    "    for _ in l:\n",
    "        new_word += _\n",
    "    return new_word\n",
    "\n",
    "cap_first_letter('tKJfdashjkh')"
   ]
  },
  {
   "cell_type": "code",
   "execution_count": 19,
   "id": "ae9762ac",
   "metadata": {},
   "outputs": [
    {
     "name": "stdout",
     "output_type": "stream",
     "text": [
      "Your tip is equal to 15.0\n"
     ]
    }
   ],
   "source": [
    "def calculate_tip(bill, x) -> \"percent as decimal\":\n",
    "        tip = bill * x\n",
    "        print(f'Your tip is equal to {tip}')\n",
    "        \n",
    "calculate_tip(100.00, .15)"
   ]
  },
  {
   "cell_type": "code",
   "execution_count": 20,
   "id": "ad4ae8da",
   "metadata": {
    "scrolled": true
   },
   "outputs": [
    {
     "name": "stdout",
     "output_type": "stream",
     "text": [
      "Your new price is: 85.0\n"
     ]
    }
   ],
   "source": [
    "def apply_discount(original_price, discount_percentage) -> \"percentage as a whole number\":\n",
    "    print(f'Your new price is: {original_price * (100 - discount_percentage) / 100}')\n",
    "\n",
    "apply_discount(100, 15)\n",
    "    "
   ]
  },
  {
   "cell_type": "code",
   "execution_count": 21,
   "id": "4d7784d0",
   "metadata": {},
   "outputs": [
    {
     "data": {
      "text/plain": [
       "'566785'"
      ]
     },
     "execution_count": 21,
     "metadata": {},
     "output_type": "execute_result"
    }
   ],
   "source": [
    "def handle_commas(number) -> 'Number as a string' :\n",
    "    new_number = ''\n",
    "    n = []\n",
    "    n = list(number)\n",
    "    for _ in n:\n",
    "        if _ == ',':\n",
    "            n.remove(',')\n",
    "    for _ in n:\n",
    "        new_number += _\n",
    "    return new_number\n",
    "\n",
    "handle_commas(\"566,785\")"
   ]
  },
  {
   "cell_type": "code",
   "execution_count": 22,
   "id": "c1ff90b8",
   "metadata": {},
   "outputs": [
    {
     "data": {
      "text/plain": [
       "'A'"
      ]
     },
     "execution_count": 22,
     "metadata": {},
     "output_type": "execute_result"
    }
   ],
   "source": [
    "def get_letter_grade(number_grade) -> \"float\":\n",
    "    if number_grade >= 90:\n",
    "        return 'A'\n",
    "    elif number_grade >= 80:\n",
    "        return 'B'\n",
    "    elif number_grade >= 70:\n",
    "        return 'C'\n",
    "    elif number_grade >= 60:\n",
    "        return 'D'\n",
    "    else:\n",
    "        return 'F'\n",
    "get_letter_grade(99)"
   ]
  },
  {
   "cell_type": "code",
   "execution_count": 24,
   "id": "2253dc78",
   "metadata": {},
   "outputs": [
    {
     "data": {
      "text/plain": [
       "'lfrd'"
      ]
     },
     "execution_count": 24,
     "metadata": {},
     "output_type": "execute_result"
    }
   ],
   "source": [
    "def remove_vowels(word):\n",
    "    new_word = ''\n",
    "    word = list(word)\n",
    "    vowels = ['a','e','i','o', 'u', 'A', 'E', 'I', 'O', 'U']\n",
    "    for letter in word:\n",
    "        if letter in vowels:\n",
    "            word.remove(letter)\n",
    "    for _ in word:\n",
    "        new_word += _\n",
    "    return new_word\n",
    "\n",
    "remove_vowels('Alfred')"
   ]
  },
  {
   "cell_type": "code",
   "execution_count": 38,
   "id": "bb7b5da7",
   "metadata": {},
   "outputs": [
    {
     "data": {
      "text/plain": [
       "'alkfjksd_agddjf'"
      ]
     },
     "execution_count": 38,
     "metadata": {},
     "output_type": "execute_result"
    }
   ],
   "source": [
    "def normalize_name(name):\n",
    "    name = name.strip().replace(' ','_').lower()\n",
    "    return name\n",
    "    \n",
    "normalize_name('   alkfjkSD AGDdjf ')"
   ]
  },
  {
   "cell_type": "code",
   "execution_count": 41,
   "id": "61f86e07",
   "metadata": {},
   "outputs": [
    {
     "name": "stdout",
     "output_type": "stream",
     "text": [
      "[1, 2, 3]\n",
      "[1, 3, 6, 10]\n"
     ]
    }
   ],
   "source": [
    "\n",
    "def cumulative_sum(numbers):\n",
    "    \n",
    "    new_list = [numbers[0]] \n",
    "    #initialize new_list with first item from the numbers put in the argument\n",
    "    running_total = numbers[0] \n",
    "    # holds the running total for list starting with the first number in numbers\n",
    "    for n in range(len(numbers) - 1): \n",
    "        #runs the loop for all but the first item in numbers\n",
    "        n = n + 1\n",
    "        new_list.append(numbers[n] + running_total) \n",
    "        # appends new total to the new_list corresponding to item in original list\n",
    "        running_total = numbers[n] + running_total \n",
    "        # keeps the running total till the end of the list\n",
    "    return new_list \n",
    "        #returns the new list of cumulative sums\n",
    "    \n",
    "list1 = [1,1,1] \n",
    "    #examples to try\n",
    "print(cumulative_sum(list1))\n",
    "list2 = [1,2,3,4]\n",
    "    #examples to try\n",
    "print(cumulative_sum(list2))\n",
    "\n",
    "# Walkthrough:\n",
    "#     When we pass the list of numbers to the function it will return a new list\n",
    "#     that gives the cumulative sum of the numbers of that list.\n",
    "\n",
    "\n",
    "    \n",
    "    #CODE THAT I TRIED BEFORE BUT WANT TO LOOK OVER AGAIN WHEN TIME PERMITS.\n",
    "    \n",
    "#     total = 0\n",
    "#     while i < len(numbers):\n",
    "#         while i >= 0:\n",
    "#             x = x + numbers[j]\n",
    "#             j -= 1\n",
    "#             new_list.append(x)\n",
    "#         i += 1\n",
    "#     return new_list\n",
    "\n",
    "# while j > 0:\n",
    "#     running_total = numbers[j]\n",
    "#     j -= 1\n",
    "#     for number in numbers:\n",
    "#         new_list.append(number)\n",
    "#     return new_list\n",
    "\n",
    "# create a for loop that \n",
    "\n",
    "\n",
    "\n"
   ]
  }
 ],
 "metadata": {
  "kernelspec": {
   "display_name": "Python 3 (ipykernel)",
   "language": "python",
   "name": "python3"
  },
  "language_info": {
   "codemirror_mode": {
    "name": "ipython",
    "version": 3
   },
   "file_extension": ".py",
   "mimetype": "text/x-python",
   "name": "python",
   "nbconvert_exporter": "python",
   "pygments_lexer": "ipython3",
   "version": "3.10.9"
  }
 },
 "nbformat": 4,
 "nbformat_minor": 5
}
