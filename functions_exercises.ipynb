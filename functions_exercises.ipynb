{
 "cells": [
  {
   "cell_type": "code",
   "execution_count": 1,
   "id": "4d689e45",
   "metadata": {},
   "outputs": [
    {
     "name": "stdout",
     "output_type": "stream",
     "text": [
      "Type something in, preferably the number 2: 2\n"
     ]
    },
    {
     "data": {
      "text/plain": [
       "True"
      ]
     },
     "execution_count": 1,
     "metadata": {},
     "output_type": "execute_result"
    }
   ],
   "source": [
    "def is_two():\n",
    "    n = input(\"Type something in, preferably the number 2: \")\n",
    "    return n == 2 or n == '2'\n",
    "is_two()"
   ]
  },
  {
   "cell_type": "code",
   "execution_count": 2,
   "id": "802d6875",
   "metadata": {},
   "outputs": [
    {
     "name": "stdout",
     "output_type": "stream",
     "text": [
      "Type in a single letter: d\n"
     ]
    },
    {
     "data": {
      "text/plain": [
       "False"
      ]
     },
     "execution_count": 2,
     "metadata": {},
     "output_type": "execute_result"
    }
   ],
   "source": []
  },
  {
   "cell_type": "code",
   "execution_count": 3,
   "id": "c3d69533",
   "metadata": {},
   "outputs": [
    {
     "name": "stdout",
     "output_type": "stream",
     "text": [
      "Type in a single letter: d\n"
     ]
    },
    {
     "data": {
      "text/plain": [
       "True"
      ]
     },
     "execution_count": 3,
     "metadata": {},
     "output_type": "execute_result"
    }
   ],
   "source": [
    "vowel_list = ['a', 'e', 'i', 'o', 'u', 'A', 'E', 'I', 'O', 'U']\n",
    "def is_consonant():\n",
    "    c = input(\"Type in a single letter: \")\n",
    "    return c not in vowel_list and len(c) == 1\n",
    "is_consonant()"
   ]
  },
  {
   "cell_type": "code",
   "execution_count": 4,
   "id": "065d07bb",
   "metadata": {},
   "outputs": [
    {
     "name": "stdout",
     "output_type": "stream",
     "text": [
      "Type in a word: asdfa\n"
     ]
    },
    {
     "data": {
      "text/plain": [
       "'Asdfa'"
      ]
     },
     "execution_count": 4,
     "metadata": {},
     "output_type": "execute_result"
    }
   ],
   "source": [
    "def cap_first_letter(): #NOT DONE!!! lowercasing all letters then capitalizing the first\n",
    "    l = []\n",
    "    new_word = ''\n",
    "    word = input(\"Type in a word: \")\n",
    "    word = word.lower()\n",
    "    l = list(word)\n",
    "    l[0] = l[0].upper()\n",
    "    for _ in l:\n",
    "        new_word += _\n",
    "    return new_word\n",
    "\n",
    "cap_first_letter()"
   ]
  },
  {
   "cell_type": "code",
   "execution_count": null,
   "id": "ae9762ac",
   "metadata": {},
   "outputs": [],
   "source": [
    "def calculate_tip():\n",
    "    bill = float(input('What was the bill total? '))\n",
    "    x = float(input('What percent would you like to tip as a decimal between 0 and 1? '))\n",
    "    if 0 <= x <= 1:\n",
    "        tip = bill * x\n",
    "        print(f'Your tip is equal to {tip}')\n",
    "    else: \n",
    "        print('FOLLOW INSTRUCTIONS!!!')\n",
    "calculate_tip()"
   ]
  },
  {
   "cell_type": "code",
   "execution_count": 6,
   "id": "ad4ae8da",
   "metadata": {
    "scrolled": true
   },
   "outputs": [
    {
     "name": "stdout",
     "output_type": "stream",
     "text": [
      "How much is the item? 6\n",
      "What percent is your discount as a whole number? 4\n",
      "Your new price is: 5.76\n"
     ]
    }
   ],
   "source": [
    "def apply_discount(): #I am abandoning the decimal for a whole number\n",
    "    original_price = float(input('How much is the item? '))\n",
    "    discount_percentage = float(input('What percent is your discount as a whole number? '))\n",
    "    print(f'Your new price is: {original_price * (100 - discount_percentage) / 100}')\n",
    "\n",
    "apply_discount()\n",
    "    "
   ]
  },
  {
   "cell_type": "code",
   "execution_count": 3,
   "id": "4d7784d0",
   "metadata": {},
   "outputs": [
    {
     "data": {
      "text/plain": [
       "'566785'"
      ]
     },
     "execution_count": 3,
     "metadata": {},
     "output_type": "execute_result"
    }
   ],
   "source": [
    "def handle_commas(number) -> 'Number as a string' :\n",
    "    new_number = ''\n",
    "    n = []\n",
    "    n = list(number)\n",
    "    for _ in n:\n",
    "        if _ == ',':\n",
    "            n.remove(',')\n",
    "    for _ in n:\n",
    "        new_number += _\n",
    "    return new_number\n",
    "\n",
    "handle_commas(\"566,785\")"
   ]
  },
  {
   "cell_type": "code",
   "execution_count": 28,
   "id": "c1ff90b8",
   "metadata": {},
   "outputs": [
    {
     "data": {
      "text/plain": [
       "'A'"
      ]
     },
     "execution_count": 28,
     "metadata": {},
     "output_type": "execute_result"
    }
   ],
   "source": [
    "def get_letter_grade(number_grade) -> \"float\":\n",
    "    if number_grade >= 90:\n",
    "        return 'A'\n",
    "    elif number_grade >= 80:\n",
    "        return 'B'\n",
    "    elif number_grade >= 70:\n",
    "        return 'C'\n",
    "    elif number_grade >= 60:\n",
    "        return 'D'\n",
    "    else:\n",
    "        return 'F'\n",
    "get_letter_grade(99)"
   ]
  },
  {
   "cell_type": "code",
   "execution_count": 27,
   "id": "2253dc78",
   "metadata": {},
   "outputs": [
    {
     "data": {
      "text/plain": [
       "'lfrd'"
      ]
     },
     "execution_count": 27,
     "metadata": {},
     "output_type": "execute_result"
    }
   ],
   "source": [
    "def remove_vowels(word):\n",
    "    new_word = ''\n",
    "    word = list(word)\n",
    "    vowels = ['a','e','i','o', 'u', 'A', 'E', 'I', 'O', 'U']\n",
    "    for letter in word:\n",
    "        if letter in vowels:\n",
    "            word.remove(letter)\n",
    "    for _ in word:\n",
    "        new_word += _\n",
    "    return new_word\n",
    "\n",
    "remove_vowels('Alfred')"
   ]
  },
  {
   "cell_type": "code",
   "execution_count": null,
   "id": "bb7b5da7",
   "metadata": {},
   "outputs": [],
   "source": []
  },
  {
   "cell_type": "code",
   "execution_count": 28,
   "id": "61f86e07",
   "metadata": {},
   "outputs": [
    {
     "name": "stdout",
     "output_type": "stream",
     "text": [
      "[1, 2, 3]\n",
      "[1, 3, 6, 10]\n"
     ]
    }
   ],
   "source": [
    "\n",
    "def cumulative_sum(numbers):\n",
    "    \n",
    "    new_list = [numbers[0]] #initialize new_list with first item\n",
    "    running_total = numbers[0] # holds the running total for list\n",
    "    for n in range(len(numbers) - 1):\n",
    "        n = n + 1\n",
    "        new_list.append(numbers[n] + running_total)\n",
    "        running_total = numbers[n] + running_total\n",
    "    return new_list\n",
    "    \n",
    "list1 = [1,1,1]\n",
    "print(cumulative_sum(list1))\n",
    "list2 = [1,2,3,4]\n",
    "print(cumulative_sum(list2))\n",
    "    \n",
    "    \n",
    "    \n",
    "#     total = 0\n",
    "#     while i < len(numbers):\n",
    "#         while i >= 0:\n",
    "#             x = x + numbers[j]\n",
    "#             j -= 1\n",
    "#             new_list.append(x)\n",
    "#         i += 1\n",
    "#     return new_list\n",
    "\n",
    "# while j > 0:\n",
    "#     running_total = numbers[j]\n",
    "#     j -= 1\n",
    "#     for number in numbers:\n",
    "#         new_list.append(number)\n",
    "#     return new_list\n",
    "\n",
    "# create a for loop that \n",
    "\n",
    "\n",
    "\n"
   ]
  }
 ],
 "metadata": {
  "kernelspec": {
   "display_name": "Python 3 (ipykernel)",
   "language": "python",
   "name": "python3"
  },
  "language_info": {
   "codemirror_mode": {
    "name": "ipython",
    "version": 3
   },
   "file_extension": ".py",
   "mimetype": "text/x-python",
   "name": "python",
   "nbconvert_exporter": "python",
   "pygments_lexer": "ipython3",
   "version": "3.10.9"
  }
 },
 "nbformat": 4,
 "nbformat_minor": 5
}
