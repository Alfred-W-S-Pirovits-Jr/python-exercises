{
 "cells": [
  {
   "cell_type": "code",
   "execution_count": 9,
   "id": "38598154",
   "metadata": {},
   "outputs": [
    {
     "name": "stdout",
     "output_type": "stream",
     "text": [
      "Type something in, preferably the number 2: '2'\n"
     ]
    },
    {
     "data": {
      "text/plain": [
       "False"
      ]
     },
     "execution_count": 9,
     "metadata": {},
     "output_type": "execute_result"
    }
   ],
   "source": [
    "def is_two():\n",
    "    n = input(\"Type something in, preferably the number 2: \")\n",
    "    return n == 2 or n == '2'\n",
    "is_two()"
   ]
  },
  {
   "cell_type": "code",
   "execution_count": 12,
   "id": "547b78d0",
   "metadata": {},
   "outputs": [
    {
     "name": "stdout",
     "output_type": "stream",
     "text": [
      "Type in a single letter:A\n"
     ]
    },
    {
     "data": {
      "text/plain": [
       "True"
      ]
     },
     "execution_count": 12,
     "metadata": {},
     "output_type": "execute_result"
    }
   ],
   "source": [
    "vowel_list = ['a', 'e', 'i', 'o', 'u', 'A', 'E', 'I', 'O', 'U']\n",
    "def is_vowel():\n",
    "    v = input(\"Type in a single letter: \")\n",
    "    return v in vowel_list\n",
    "is_vowel()"
   ]
  },
  {
   "cell_type": "code",
   "execution_count": 22,
   "id": "97a022f3",
   "metadata": {},
   "outputs": [
    {
     "name": "stdout",
     "output_type": "stream",
     "text": [
      "Type in a single letter:O\n"
     ]
    },
    {
     "data": {
      "text/plain": [
       "False"
      ]
     },
     "execution_count": 22,
     "metadata": {},
     "output_type": "execute_result"
    }
   ],
   "source": [
    "vowel_list = ['a', 'e', 'i', 'o', 'u', 'A', 'E', 'I', 'O', 'U']\n",
    "def is_consonant():\n",
    "    c = input(\"Type in a single letter: \")\n",
    "    return c not in vowel_list and len(c) == 1\n",
    "is_consonant()"
   ]
  },
  {
   "cell_type": "code",
   "execution_count": 70,
   "id": "4d646b3c",
   "metadata": {},
   "outputs": [
    {
     "name": "stdout",
     "output_type": "stream",
     "text": [
      "Type in a word: kljsdfDFGJDGsdklafhj\n"
     ]
    },
    {
     "data": {
      "text/plain": [
       "'Kljsdfdfgjdgsdklafhj'"
      ]
     },
     "execution_count": 70,
     "metadata": {},
     "output_type": "execute_result"
    }
   ],
   "source": [
    "def cap_first_letter(): #NOT DONE!!! lowercasing all letters then capitalizing the first\n",
    "    l = []\n",
    "    new_word = ''\n",
    "    word = input(\"Type in a word: \")\n",
    "    word = word.lower()\n",
    "    l = list(word)\n",
    "    l[0] = l[0].upper()\n",
    "    for _ in l:\n",
    "        new_word += _\n",
    "    return new_word\n",
    "\n",
    "cap_first_letter()"
   ]
  },
  {
   "cell_type": "code",
   "execution_count": 50,
   "id": "2e53d450",
   "metadata": {},
   "outputs": [
    {
     "name": "stdout",
     "output_type": "stream",
     "text": [
      "What was the bill total? 100\n",
      "What percent would you like to tip as a decimal between 0 and 1? 1.1\n",
      "FOLLOW INSTRUCTIONS!!!\n"
     ]
    }
   ],
   "source": [
    "def calculate_tip():\n",
    "    bill = float(input('What was the bill total? ''))\n",
    "    x = float(input('What percent would you like to tip as a decimal between 0 and 1? ''))\n",
    "    if 0 <= x <= 1:\n",
    "        tip = bill * x\n",
    "        print(f'Your tip is equal to {tip}')\n",
    "    else: \n",
    "        print('FOLLOW INSTRUCTIONS!!!')\n",
    "calculate_tip()"
   ]
  },
  {
   "cell_type": "code",
   "execution_count": 55,
   "id": "c84fa16f",
   "metadata": {
    "scrolled": true
   },
   "outputs": [
    {
     "name": "stdout",
     "output_type": "stream",
     "text": [
      "How much is the item? 100\n",
      "What percent is your discount as a whole number? 15\n",
      "Your new price is: 85.0\n"
     ]
    }
   ],
   "source": [
    "def apply_discount(): #I am abandoning the decimal for a whole number\n",
    "    original_price = float(input('How much is the item? '))\n",
    "    discount_percentage = float(input('What percent is your discount as a whole number? '))\n",
    "    print(f'Your new price is: {original_price * (100 - discount_percentage) / 100}')\n",
    "\n",
    "apply_discount()\n",
    "    "
   ]
  },
  {
   "cell_type": "code",
   "execution_count": 82,
   "id": "6b4d46fe",
   "metadata": {},
   "outputs": [
    {
     "name": "stdout",
     "output_type": "stream",
     "text": [
      "Enter a large number with the commas: 566,766\n"
     ]
    },
    {
     "data": {
      "text/plain": [
       "'566766'"
      ]
     },
     "execution_count": 82,
     "metadata": {},
     "output_type": "execute_result"
    }
   ],
   "source": [
    "def handle_commas():\n",
    "    new_number = ''\n",
    "    n = []\n",
    "    number = input('Enter a large number with the commas: ')\n",
    "    n = list(number)\n",
    "    for _ in n:\n",
    "        if _ == ',':\n",
    "            n.remove(',')\n",
    "    for _ in n:\n",
    "        new_number += _\n",
    "    return new_number\n",
    "\n",
    "handle_commas()"
   ]
  },
  {
   "cell_type": "code",
   "execution_count": null,
   "id": "81b97a34",
   "metadata": {},
   "outputs": [],
   "source": []
  }
 ],
 "metadata": {
  "kernelspec": {
   "display_name": "Python 3 (ipykernel)",
   "language": "python",
   "name": "python3"
  },
  "language_info": {
   "codemirror_mode": {
    "name": "ipython",
    "version": 3
   },
   "file_extension": ".py",
   "mimetype": "text/x-python",
   "name": "python",
   "nbconvert_exporter": "python",
   "pygments_lexer": "ipython3",
   "version": "3.10.9"
  }
 },
 "nbformat": 4,
 "nbformat_minor": 5
}
