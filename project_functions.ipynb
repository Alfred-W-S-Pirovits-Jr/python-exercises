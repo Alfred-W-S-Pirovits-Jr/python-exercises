{
 "cells": [
  {
   "cell_type": "code",
   "execution_count": 13,
   "id": "2cfe1ef0",
   "metadata": {},
   "outputs": [
    {
     "name": "stdout",
     "output_type": "stream",
     "text": [
      "\n",
      " ~~~ Welcome to your terminal checkbook! ~~~ \n",
      "\n"
     ]
    },
    {
     "ename": "NameError",
     "evalue": "name 'user_option' is not defined",
     "output_type": "error",
     "traceback": [
      "\u001b[0;31m---------------------------------------------------------------------------\u001b[0m",
      "\u001b[0;31mNameError\u001b[0m                                 Traceback (most recent call last)",
      "Cell \u001b[0;32mIn[13], line 51\u001b[0m\n\u001b[1;32m     47\u001b[0m         \u001b[38;5;28;01melse\u001b[39;00m:\n\u001b[1;32m     48\u001b[0m             \u001b[38;5;28mprint\u001b[39m(\u001b[38;5;124mf\u001b[39m\u001b[38;5;124m'\u001b[39m\u001b[38;5;124mInvalid choice: \u001b[39m\u001b[38;5;132;01m{\u001b[39;00muser_option\u001b[38;5;132;01m}\u001b[39;00m\u001b[38;5;124m \u001b[39m\u001b[38;5;130;01m\\n\u001b[39;00m\u001b[38;5;124m'\u001b[39m)\n\u001b[0;32m---> 51\u001b[0m \u001b[43mmain\u001b[49m\u001b[43m(\u001b[49m\u001b[43m)\u001b[49m\n",
      "Cell \u001b[0;32mIn[13], line 4\u001b[0m, in \u001b[0;36mmain\u001b[0;34m()\u001b[0m\n\u001b[1;32m      2\u001b[0m \u001b[38;5;28mprint\u001b[39m(\u001b[38;5;124m'\u001b[39m\u001b[38;5;130;01m\\n\u001b[39;00m\u001b[38;5;124m ~~~ Welcome to your terminal checkbook! ~~~ \u001b[39m\u001b[38;5;130;01m\\n\u001b[39;00m\u001b[38;5;124m'\u001b[39m)\n\u001b[1;32m      3\u001b[0m user_option \u001b[38;5;241m=\u001b[39m \u001b[38;5;241m0\u001b[39m \u001b[38;5;66;03m#initialize user_options\u001b[39;00m\n\u001b[0;32m----> 4\u001b[0m \u001b[43mcontinue_or_error\u001b[49m\u001b[43m(\u001b[49m\u001b[43m)\u001b[49m\n",
      "Cell \u001b[0;32mIn[13], line 33\u001b[0m, in \u001b[0;36mcontinue_or_error\u001b[0;34m()\u001b[0m\n\u001b[1;32m     31\u001b[0m \u001b[38;5;28;01mdef\u001b[39;00m \u001b[38;5;21mcontinue_or_error\u001b[39m(): \u001b[38;5;66;03m#Do I need to figure out how to loop this?\u001b[39;00m\n\u001b[0;32m---> 33\u001b[0m     \u001b[38;5;28;01mwhile\u001b[39;00m \u001b[43muser_option\u001b[49m \u001b[38;5;241m!=\u001b[39m \u001b[38;5;241m4\u001b[39m:\n\u001b[1;32m     34\u001b[0m         prompt() \u001b[38;5;66;03m#loop and a break?\u001b[39;00m\n\u001b[1;32m     35\u001b[0m         \u001b[38;5;28;01mif\u001b[39;00m user_option \u001b[38;5;241m==\u001b[39m \u001b[38;5;124m'\u001b[39m\u001b[38;5;124m1\u001b[39m\u001b[38;5;124m'\u001b[39m:\n",
      "\u001b[0;31mNameError\u001b[0m: name 'user_option' is not defined"
     ]
    }
   ],
   "source": [
    "def main():\n",
    "    print('\\n ~~~ Welcome to your terminal checkbook! ~~~ \\n')\n",
    "    user_option = 0 #initialize user_options\n",
    "    continue_or_error() # prompt function to get user input\n",
    "\n",
    "#user_input = 0\n",
    "def prompt():\n",
    "    global user_option \n",
    "    user_option = input('What would you like to do ? \\n \\n'\n",
    "        '1) view current balance \\n' \n",
    "        '2) record a debit (withdraw) \\n' \n",
    "        '3) record a credit (deposit) \\n' \n",
    "        '4) exit \\n \\n'\n",
    "        'Your choice? ')\n",
    "\n",
    "    return user_option\n",
    "\n",
    "def current_balance(): #read the current balance from the balance.txt file?\n",
    "    print(f'\\nYour current balance is 100.\\n')\n",
    "\n",
    "def debit():\n",
    "    input(f'\\nHow much would you like to wittdraw? ') # if entry is less than balance then balance minus entry\n",
    "     # else print your available balance is {} you will overdraw account\n",
    "\n",
    "def credit(): # adds the user input to the total balance\n",
    "    input(f'\\nHow much would you like to deposit?')\n",
    "\n",
    "def exit():  #perhaps not needed but records and saves current balance\n",
    "    print('\\nThanks, have a great day!')\n",
    "\n",
    "def continue_or_error(): #Do I need to figure out how to loop this?\n",
    "\n",
    "    while user_option != 4:\n",
    "        prompt() #loop and a break?\n",
    "        if user_option == '1':\n",
    "            current_balance() # insert a view current balance function\n",
    "            break\n",
    "        elif user_option == '2': # insert debit function\n",
    "            debit()\n",
    "            break\n",
    "        elif user_option == '3': # insert credit function\n",
    "            credit()\n",
    "            break\n",
    "        elif user_option == '4': # insert exit function\n",
    "            print('\\nThanks, have a great day!')\n",
    "            break \n",
    "        else:\n",
    "            print(f'Invalid choice: {user_option} \\n')\n",
    "\n",
    "\n",
    "main()\n"
   ]
  },
  {
   "cell_type": "code",
   "execution_count": null,
   "id": "e8e5cff5",
   "metadata": {},
   "outputs": [],
   "source": []
  },
  {
   "cell_type": "code",
   "execution_count": 12,
   "id": "161ae7fe",
   "metadata": {},
   "outputs": [],
   "source": [
    "def continue_or_error(): #Do I need to figure out how to loop this?\n",
    "\n",
    "    while user_input != 4:\n",
    "        prompt(user_input) #loop and a break?\n",
    "        if user_input == '1':\n",
    "            print()\n",
    "        # insert a view current balance function\n",
    "        elif user_input == '2':\n",
    "            print()\n",
    "        # insert debit function\n",
    "        elif user_input == '3':\n",
    "            print()\n",
    "        # insert credit function\n",
    "        elif user_input == '4':\n",
    "        # insert exit function\n",
    "            print('\\nThanks, have a great day!')\n",
    "        # break \n",
    "        else:\n",
    "            print(f'Invalid choice: {user_input} \\n')"
   ]
  }
 ],
 "metadata": {
  "kernelspec": {
   "display_name": "Python 3 (ipykernel)",
   "language": "python",
   "name": "python3"
  },
  "language_info": {
   "codemirror_mode": {
    "name": "ipython",
    "version": 3
   },
   "file_extension": ".py",
   "mimetype": "text/x-python",
   "name": "python",
   "nbconvert_exporter": "python",
   "pygments_lexer": "ipython3",
   "version": "3.10.9"
  }
 },
 "nbformat": 4,
 "nbformat_minor": 5
}
