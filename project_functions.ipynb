{
 "cells": [
  {
   "cell_type": "code",
   "execution_count": 1,
   "id": "134b1241",
   "metadata": {},
   "outputs": [
    {
     "name": "stdout",
     "output_type": "stream",
     "text": [
      "\n",
      " ~~~ Welcome to your terminal checkbook! ~~~ \n",
      "\n"
     ]
    },
    {
     "ename": "NameError",
     "evalue": "name 'user_option' is not defined",
     "output_type": "error",
     "traceback": [
      "\u001b[0;31m---------------------------------------------------------------------------\u001b[0m",
      "\u001b[0;31mNameError\u001b[0m                                 Traceback (most recent call last)",
      "Cell \u001b[0;32mIn[1], line 51\u001b[0m\n\u001b[1;32m     47\u001b[0m         \u001b[38;5;28;01melse\u001b[39;00m:\n\u001b[1;32m     48\u001b[0m             \u001b[38;5;28mprint\u001b[39m(\u001b[38;5;124mf\u001b[39m\u001b[38;5;124m'\u001b[39m\u001b[38;5;124mInvalid choice: \u001b[39m\u001b[38;5;132;01m{\u001b[39;00muser_option\u001b[38;5;132;01m}\u001b[39;00m\u001b[38;5;124m \u001b[39m\u001b[38;5;130;01m\\n\u001b[39;00m\u001b[38;5;124m'\u001b[39m)\n\u001b[0;32m---> 51\u001b[0m \u001b[43mmain\u001b[49m\u001b[43m(\u001b[49m\u001b[43m)\u001b[49m\n",
      "Cell \u001b[0;32mIn[1], line 4\u001b[0m, in \u001b[0;36mmain\u001b[0;34m()\u001b[0m\n\u001b[1;32m      2\u001b[0m \u001b[38;5;28mprint\u001b[39m(\u001b[38;5;124m'\u001b[39m\u001b[38;5;130;01m\\n\u001b[39;00m\u001b[38;5;124m ~~~ Welcome to your terminal checkbook! ~~~ \u001b[39m\u001b[38;5;130;01m\\n\u001b[39;00m\u001b[38;5;124m'\u001b[39m)\n\u001b[1;32m      3\u001b[0m user_option \u001b[38;5;241m=\u001b[39m \u001b[38;5;241m0\u001b[39m \u001b[38;5;66;03m#initialize user_options\u001b[39;00m\n\u001b[0;32m----> 4\u001b[0m \u001b[43mcontinue_or_error\u001b[49m\u001b[43m(\u001b[49m\u001b[43m)\u001b[49m\n",
      "Cell \u001b[0;32mIn[1], line 33\u001b[0m, in \u001b[0;36mcontinue_or_error\u001b[0;34m()\u001b[0m\n\u001b[1;32m     31\u001b[0m \u001b[38;5;28;01mdef\u001b[39;00m \u001b[38;5;21mcontinue_or_error\u001b[39m(): \u001b[38;5;66;03m#Do I need to figure out how to loop this?\u001b[39;00m\n\u001b[0;32m---> 33\u001b[0m     \u001b[38;5;28;01mwhile\u001b[39;00m \u001b[43muser_option\u001b[49m \u001b[38;5;241m!=\u001b[39m \u001b[38;5;241m4\u001b[39m:\n\u001b[1;32m     34\u001b[0m         prompt() \u001b[38;5;66;03m#loop and a break?\u001b[39;00m\n\u001b[1;32m     35\u001b[0m         \u001b[38;5;28;01mif\u001b[39;00m user_option \u001b[38;5;241m==\u001b[39m \u001b[38;5;124m'\u001b[39m\u001b[38;5;124m1\u001b[39m\u001b[38;5;124m'\u001b[39m:\n",
      "\u001b[0;31mNameError\u001b[0m: name 'user_option' is not defined"
     ]
    }
   ],
   "source": [
    "def main():\n",
    "    print('\\n ~~~ Welcome to your terminal checkbook! ~~~ \\n')\n",
    "    user_option = 0 #initialize user_options\n",
    "    continue_or_error() # prompt function to get user input\n",
    "\n",
    "#user_input = 0\n",
    "def prompt():\n",
    "    global user_option \n",
    "    user_option = input('What would you like to do ? \\n \\n'\n",
    "        '1) view current balance \\n' \n",
    "        '2) record a debit (withdraw) \\n' \n",
    "        '3) record a credit (deposit) \\n' \n",
    "        '4) exit \\n \\n'\n",
    "        'Your choice? ')\n",
    "\n",
    "    return user_option\n",
    "\n",
    "def current_balance(): #read the current balance from the balance.txt file?\n",
    "    print(f'\\nYour current balance is 100.\\n')\n",
    "\n",
    "def debit():\n",
    "    input(f'\\nHow much would you like to wittdraw? ') # if entry is less than balance then balance minus entry\n",
    "     # else print your available balance is {} you will overdraw account\n",
    "\n",
    "def credit(): # adds the user input to the total balance\n",
    "    input(f'\\nHow much would you like to deposit?')\n",
    "\n",
    "def exit():  #perhaps not needed but records and saves current balance\n",
    "    print('\\nThanks, have a great day!')\n",
    "\n",
    "def continue_or_error(): #Do I need to figure out how to loop this?\n",
    "\n",
    "    while user_option != 4:\n",
    "        prompt() #loop and a break?\n",
    "        if user_option == '1':\n",
    "            current_balance() # insert a view current balance function\n",
    "            break\n",
    "        elif user_option == '2': # insert debit function\n",
    "            debit()\n",
    "            break\n",
    "        elif user_option == '3': # insert credit function\n",
    "            credit()\n",
    "            break\n",
    "        elif user_option == '4': # insert exit function\n",
    "            print('\\nThanks, have a great day!')\n",
    "            break \n",
    "        else:\n",
    "            print(f'Invalid choice: {user_option} \\n')\n",
    "\n",
    "\n",
    "main()\n"
   ]
  },
  {
   "cell_type": "code",
   "execution_count": null,
   "id": "a6bb0be8",
   "metadata": {},
   "outputs": [],
   "source": []
  },
  {
   "cell_type": "code",
   "execution_count": null,
   "id": "e2a6b8a0",
   "metadata": {},
   "outputs": [],
   "source": [
    "def continue_or_error(): #Do I need to figure out how to loop this?\n",
    "\n",
    "    while user_input != 4:\n",
    "        prompt(user_input) #loop and a break?\n",
    "        if user_input == '1':\n",
    "            print()\n",
    "        # insert a view current balance function\n",
    "        elif user_input == '2':\n",
    "            print()\n",
    "        # insert debit function\n",
    "        elif user_input == '3':\n",
    "            print()\n",
    "        # insert credit function\n",
    "        elif user_input == '4':\n",
    "        # insert exit function\n",
    "            print('\\nThanks, have a great day!')\n",
    "        # break \n",
    "        else:\n",
    "            print(f'Invalid choice: {user_input} \\n')"
   ]
  },
  {
   "cell_type": "code",
   "execution_count": null,
   "id": "7e618a3b",
   "metadata": {},
   "outputs": [],
   "source": [
    "f = open('balance.txt', 'r')"
   ]
  },
  {
   "cell_type": "code",
   "execution_count": null,
   "id": "34f4df92",
   "metadata": {},
   "outputs": [],
   "source": []
  },
  {
   "cell_type": "code",
   "execution_count": null,
   "id": "334d4785",
   "metadata": {},
   "outputs": [],
   "source": [
    "f.close()"
   ]
  },
  {
   "cell_type": "code",
   "execution_count": null,
   "id": "e1daa2cd",
   "metadata": {},
   "outputs": [],
   "source": [
    "def current_balance(): #read the current balance from the balance.txt file?\n",
    "    with open('balance.txt', 'r') as f:\n",
    "        last_line = f.readlines()[-1]\n",
    "    print(f'\\nYour current balance is {last_line}.\\n')"
   ]
  },
  {
   "cell_type": "code",
   "execution_count": null,
   "id": "20c93319",
   "metadata": {},
   "outputs": [],
   "source": []
  },
  {
   "cell_type": "code",
   "execution_count": null,
   "id": "4e4e5340",
   "metadata": {},
   "outputs": [],
   "source": [
    "continue = input(f'You only have ${last_line} in your account.\\nWithdrawing ${withdrawal} will overdraft your account!\\n\\nDo you want to continue? (y/n) ')\n",
    "        if continue == 'n':\n",
    "            break\n",
    "        elif continue == 'y':\n",
    "            contiue\n",
    "        else:\n",
    "            continue = input('Please enter y or n. ')"
   ]
  },
  {
   "cell_type": "code",
   "execution_count": null,
   "id": "0a485bc7",
   "metadata": {},
   "outputs": [],
   "source": []
  },
  {
   "cell_type": "code",
   "execution_count": 16,
   "id": "17ba7ec9",
   "metadata": {},
   "outputs": [
    {
     "name": "stdout",
     "output_type": "stream",
     "text": [
      "Do you want to continue? (y/n)y\n",
      "What number would you like to go up to? 7\n",
      "\n",
      "Here is your Table!\n",
      "number | squared | cubed\n",
      "------ | ------- | -----\n",
      "0       |  0        |  0\n",
      "1       |  1        |  1\n",
      "2       |  4        |  8\n",
      "3       |  9        |  27\n",
      "4       |  16        |  64\n",
      "5       |  25        |  125\n",
      "6       |  36        |  216\n",
      "7       |  49        |  343\n",
      "Do you want to continue? (y/n)y\n",
      "What number would you like to go up to? 6\n",
      "\n",
      "Here is your Table!\n",
      "number | squared | cubed\n",
      "------ | ------- | -----\n",
      "0       |  0        |  0\n",
      "1       |  1        |  1\n",
      "2       |  4        |  8\n",
      "3       |  9        |  27\n",
      "4       |  16        |  64\n",
      "5       |  25        |  125\n",
      "6       |  36        |  216\n",
      "Do you want to continue? (y/n)n\n",
      "OK! Guh Bie\n"
     ]
    }
   ],
   "source": [
    "while True:\n",
    "    user_prompt = input(\"Do you want to continue? (y/n)\")\n",
    "    if user_prompt == 'n':\n",
    "        print(\"OK! Guh Bie\")\n",
    "        break\n",
    "    elif user_prompt == 'y':\n",
    "        user_input = int(input(\"What number would you like to go up to? \"))\n",
    "        print()\n",
    "        print(\"Here is your Table!\")\n",
    "        print(\"number | squared | cubed\")\n",
    "        print(\"------ | ------- | -----\")\n",
    "        i = 0\n",
    "        while i <= user_input:\n",
    "            print(i, \"      | \", i * i, \"       | \", i * i * i)\n",
    "            i += 1\n",
    "    else:\n",
    "        print(\"Try that again!\")\n",
    "            "
   ]
  }
 ],
 "metadata": {
  "kernelspec": {
   "display_name": "Python 3 (ipykernel)",
   "language": "python",
   "name": "python3"
  },
  "language_info": {
   "codemirror_mode": {
    "name": "ipython",
    "version": 3
   },
   "file_extension": ".py",
   "mimetype": "text/x-python",
   "name": "python",
   "nbconvert_exporter": "python",
   "pygments_lexer": "ipython3",
   "version": "3.10.9"
  }
 },
 "nbformat": 4,
 "nbformat_minor": 5
}
