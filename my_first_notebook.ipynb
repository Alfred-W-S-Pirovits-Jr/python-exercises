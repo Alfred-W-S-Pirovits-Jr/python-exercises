{
 "cells": [
  {
   "cell_type": "markdown",
   "id": "8d497ed3",
   "metadata": {},
   "source": [
    "esc then a is add a cell above"
   ]
  },
  {
   "cell_type": "markdown",
   "id": "b09803cf",
   "metadata": {},
   "source": [
    "esc then b add cell below"
   ]
  },
  {
   "cell_type": "markdown",
   "id": "06d5535b",
   "metadata": {},
   "source": [
    "esc then dd deletes a cell"
   ]
  }
 ],
 "metadata": {
  "kernelspec": {
   "display_name": "Python 3 (ipykernel)",
   "language": "python",
   "name": "python3"
  },
  "language_info": {
   "codemirror_mode": {
    "name": "ipython",
    "version": 3
   },
   "file_extension": ".py",
   "mimetype": "text/x-python",
   "name": "python",
   "nbconvert_exporter": "python",
   "pygments_lexer": "ipython3",
   "version": "3.10.9"
  }
 },
 "nbformat": 4,
 "nbformat_minor": 5
}
