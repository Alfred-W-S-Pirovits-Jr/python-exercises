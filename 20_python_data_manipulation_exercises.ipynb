{
 "cells": [
  {
   "cell_type": "markdown",
   "id": "30affa27",
   "metadata": {},
   "source": [
    "20 Python Data Structure Manipulation Exercises\n",
    "\n",
    "The following questions reference the students data structure below. Write the python code to answer the following questions:"
   ]
  },
  {
   "cell_type": "code",
   "execution_count": 4,
   "id": "cf527f25",
   "metadata": {},
   "outputs": [],
   "source": [
    "students = [\n",
    "    {\n",
    "        \"id\": \"100001\",\n",
    "        \"student\": \"Ada Lovelace\",\n",
    "        \"coffee_preference\": \"light\",\n",
    "        \"course\": \"web development\",\n",
    "        \"grades\": [70, 91, 82, 71],\n",
    "        \"pets\": [{\"species\": \"horse\", \"age\": 8}],\n",
    "    },\n",
    "    {\n",
    "        \"id\": \"100002\",\n",
    "        \"student\": \"Thomas Bayes\",\n",
    "        \"coffee_preference\": \"medium\",\n",
    "        \"course\": \"data science\",\n",
    "        \"grades\": [75, 73, 86, 100],\n",
    "        \"pets\": [],\n",
    "    },\n",
    "    {\n",
    "        \"id\": \"100003\",\n",
    "        \"student\": \"Marie Curie\",\n",
    "        \"coffee_preference\": \"light\",\n",
    "        \"course\": \"web development\",\n",
    "        \"grades\": [70, 89, 69, 65],\n",
    "        \"pets\": [{\"species\": \"cat\", \"age\": 0}],\n",
    "    },\n",
    "    {\n",
    "        \"id\": \"100004\",\n",
    "        \"student\": \"Grace Hopper\",\n",
    "        \"coffee_preference\": \"dark\",\n",
    "        \"course\": \"data science\",\n",
    "        \"grades\": [73, 66, 83, 92],\n",
    "        \"pets\": [{\"species\": \"dog\", \"age\": 4}, {\"species\": \"cat\", \"age\": 4}],\n",
    "    },\n",
    "    {\n",
    "        \"id\": \"100005\",\n",
    "        \"student\": \"Alan Turing\",\n",
    "        \"coffee_preference\": \"dark\",\n",
    "        \"course\": \"web development\",\n",
    "        \"grades\": [78, 98, 85, 65],\n",
    "        \"pets\": [\n",
    "            {\"species\": \"horse\", \"age\": 6},\n",
    "            {\"species\": \"horse\", \"age\": 7},\n",
    "            {\"species\": \"dog\", \"age\": 5},\n",
    "        ],\n",
    "    },\n",
    "    {\n",
    "        \"id\": \"100006\",\n",
    "        \"student\": \"Rosalind Franklin\",\n",
    "        \"coffee_preference\": \"dark\",\n",
    "        \"course\": \"data science\",\n",
    "        \"grades\": [76, 70, 96, 81],\n",
    "        \"pets\": [],\n",
    "    },\n",
    "    {\n",
    "        \"id\": \"100007\",\n",
    "        \"student\": \"Elizabeth Blackwell\",\n",
    "        \"coffee_preference\": \"dark\",\n",
    "        \"course\": \"web development\",\n",
    "        \"grades\": [69, 94, 89, 86],\n",
    "        \"pets\": [{\"species\": \"cat\", \"age\": 10}],\n",
    "    },\n",
    "    {\n",
    "        \"id\": \"100008\",\n",
    "        \"student\": \"Rene Descartes\",\n",
    "        \"coffee_preference\": \"medium\",\n",
    "        \"course\": \"data science\",\n",
    "        \"grades\": [87, 79, 90, 99],\n",
    "        \"pets\": [{\"species\": \"cat\", \"age\": 10}, {\"species\": \"cat\", \"age\": 8}],\n",
    "    },\n",
    "    {\n",
    "        \"id\": \"100009\",\n",
    "        \"student\": \"Ahmed Zewail\",\n",
    "        \"coffee_preference\": \"medium\",\n",
    "        \"course\": \"data science\",\n",
    "        \"grades\": [74, 99, 93, 89],\n",
    "        \"pets\": [{\"species\": \"cat\", \"age\": 0}, {\"species\": \"cat\", \"age\": 0}],\n",
    "    },\n",
    "    {\n",
    "        \"id\": \"100010\",\n",
    "        \"student\": \"Chien-Shiung Wu\",\n",
    "        \"coffee_preference\": \"medium\",\n",
    "        \"course\": \"web development\",\n",
    "        \"grades\": [82, 92, 91, 65],\n",
    "        \"pets\": [{\"species\": \"cat\", \"age\": 8}],\n",
    "    },\n",
    "    {\n",
    "        \"id\": \"100011\",\n",
    "        \"student\": \"William Sanford Nye\",\n",
    "        \"coffee_preference\": \"dark\",\n",
    "        \"course\": \"data science\",\n",
    "        \"grades\": [70, 92, 65, 99],\n",
    "        \"pets\": [{\"species\": \"cat\", \"age\": 8}, {\"species\": \"cat\", \"age\": 5}],\n",
    "    },\n",
    "    {\n",
    "        \"id\": \"100012\",\n",
    "        \"student\": \"Carl Sagan\",\n",
    "        \"coffee_preference\": \"medium\",\n",
    "        \"course\": \"data science\",\n",
    "        \"grades\": [100, 86, 91, 87],\n",
    "        \"pets\": [{\"species\": \"cat\", \"age\": 10}],\n",
    "    },\n",
    "    {\n",
    "        \"id\": \"100013\",\n",
    "        \"student\": \"Jane Goodall\",\n",
    "        \"coffee_preference\": \"light\",\n",
    "        \"course\": \"web development\",\n",
    "        \"grades\": [80, 70, 68, 98],\n",
    "        \"pets\": [{\"species\": \"horse\", \"age\": 4}],\n",
    "    },\n",
    "    {\n",
    "        \"id\": \"100014\",\n",
    "        \"student\": \"Richard Feynman\",\n",
    "        \"coffee_preference\": \"medium\",\n",
    "        \"course\": \"web development\",\n",
    "        \"grades\": [73, 99, 86, 98],\n",
    "        \"pets\": [{\"species\": \"dog\", \"age\": 6}],\n",
    "    },\n",
    "]"
   ]
  },
  {
   "cell_type": "markdown",
   "id": "1b52a86a",
   "metadata": {},
   "source": [
    "How many students are there?"
   ]
  },
  {
   "cell_type": "code",
   "execution_count": 6,
   "id": "c51ac8e7",
   "metadata": {},
   "outputs": [
    {
     "data": {
      "text/plain": [
       "14"
      ]
     },
     "execution_count": 6,
     "metadata": {},
     "output_type": "execute_result"
    }
   ],
   "source": [
    "len(students)"
   ]
  },
  {
   "cell_type": "markdown",
   "id": "6fbad46c",
   "metadata": {},
   "source": [
    "How many students prefer light coffee? For each type of coffee roast?"
   ]
  },
  {
   "cell_type": "code",
   "execution_count": 10,
   "id": "6a48dec8",
   "metadata": {},
   "outputs": [
    {
     "name": "stdout",
     "output_type": "stream",
     "text": [
      "[{'id': '100001', 'student': 'Ada Lovelace', 'coffee_preference': 'light', 'course': 'web development', 'grades': [70, 91, 82, 71], 'pets': [{'species': 'horse', 'age': 8}]}, {'id': '100003', 'student': 'Marie Curie', 'coffee_preference': 'light', 'course': 'web development', 'grades': [70, 89, 69, 65], 'pets': [{'species': 'cat', 'age': 0}]}, {'id': '100013', 'student': 'Jane Goodall', 'coffee_preference': 'light', 'course': 'web development', 'grades': [80, 70, 68, 98], 'pets': [{'species': 'horse', 'age': 4}]}]\n"
     ]
    },
    {
     "data": {
      "text/plain": [
       "3"
      ]
     },
     "execution_count": 10,
     "metadata": {},
     "output_type": "execute_result"
    }
   ],
   "source": [
    "light_coffee_list = [student for student in students if student['coffee_preference'] == 'light']\n",
    "print(light_coffee_list)\n",
    "len(light_coffee_list)"
   ]
  },
  {
   "cell_type": "markdown",
   "id": "ab7ae2aa",
   "metadata": {},
   "source": [
    "How many types of each pet are there?"
   ]
  },
  {
   "cell_type": "code",
   "execution_count": 16,
   "id": "15f9f257",
   "metadata": {},
   "outputs": [
    {
     "name": "stderr",
     "output_type": "stream",
     "text": [
      "<>:1: SyntaxWarning: str indices must be integers or slices, not str; perhaps you missed a comma?\n",
      "<>:1: SyntaxWarning: str indices must be integers or slices, not str; perhaps you missed a comma?\n",
      "/var/folders/jv/wt_gjk6n74bcbzwl91qys7sr0000gn/T/ipykernel_1503/3302592898.py:1: SyntaxWarning: str indices must be integers or slices, not str; perhaps you missed a comma?\n",
      "  pet_list = [student['pets'['species']] for student in students]\n",
      "/var/folders/jv/wt_gjk6n74bcbzwl91qys7sr0000gn/T/ipykernel_1503/3302592898.py:1: SyntaxWarning: str indices must be integers or slices, not str; perhaps you missed a comma?\n",
      "  pet_list = [student['pets'['species']] for student in students]\n",
      "/var/folders/jv/wt_gjk6n74bcbzwl91qys7sr0000gn/T/ipykernel_1503/3302592898.py:1: SyntaxWarning: str indices must be integers or slices, not str; perhaps you missed a comma?\n",
      "  pet_list = [student['pets'['species']] for student in students]\n",
      "/var/folders/jv/wt_gjk6n74bcbzwl91qys7sr0000gn/T/ipykernel_1503/3302592898.py:1: SyntaxWarning: str indices must be integers or slices, not str; perhaps you missed a comma?\n",
      "  pet_list = [student['pets'['species']] for student in students]\n",
      "/var/folders/jv/wt_gjk6n74bcbzwl91qys7sr0000gn/T/ipykernel_1503/3302592898.py:1: SyntaxWarning: str indices must be integers or slices, not str; perhaps you missed a comma?\n",
      "  pet_list = [student['pets'['species']] for student in students]\n",
      "/var/folders/jv/wt_gjk6n74bcbzwl91qys7sr0000gn/T/ipykernel_1503/3302592898.py:1: SyntaxWarning: str indices must be integers or slices, not str; perhaps you missed a comma?\n",
      "  pet_list = [student['pets'['species']] for student in students]\n"
     ]
    },
    {
     "ename": "TypeError",
     "evalue": "string indices must be integers",
     "output_type": "error",
     "traceback": [
      "\u001b[0;31m---------------------------------------------------------------------------\u001b[0m",
      "\u001b[0;31mTypeError\u001b[0m                                 Traceback (most recent call last)",
      "Cell \u001b[0;32mIn[16], line 1\u001b[0m\n\u001b[0;32m----> 1\u001b[0m pet_list \u001b[38;5;241m=\u001b[39m [student[\u001b[38;5;124m'\u001b[39m\u001b[38;5;124mpets\u001b[39m\u001b[38;5;124m'\u001b[39m[\u001b[38;5;124m'\u001b[39m\u001b[38;5;124mspecies\u001b[39m\u001b[38;5;124m'\u001b[39m]] \u001b[38;5;28;01mfor\u001b[39;00m student \u001b[38;5;129;01min\u001b[39;00m students]\n\u001b[1;32m      2\u001b[0m \u001b[38;5;28mprint\u001b[39m(pet_list)\n",
      "Cell \u001b[0;32mIn[16], line 1\u001b[0m, in \u001b[0;36m<listcomp>\u001b[0;34m(.0)\u001b[0m\n\u001b[0;32m----> 1\u001b[0m pet_list \u001b[38;5;241m=\u001b[39m [student[\u001b[38;5;124;43m'\u001b[39;49m\u001b[38;5;124;43mpets\u001b[39;49m\u001b[38;5;124;43m'\u001b[39;49m\u001b[43m[\u001b[49m\u001b[38;5;124;43m'\u001b[39;49m\u001b[38;5;124;43mspecies\u001b[39;49m\u001b[38;5;124;43m'\u001b[39;49m\u001b[43m]\u001b[49m] \u001b[38;5;28;01mfor\u001b[39;00m student \u001b[38;5;129;01min\u001b[39;00m students]\n\u001b[1;32m      2\u001b[0m \u001b[38;5;28mprint\u001b[39m(pet_list)\n",
      "\u001b[0;31mTypeError\u001b[0m: string indices must be integers"
     ]
    }
   ],
   "source": [
    "pet_list = [student['pets'['species']] for student in students]\n",
    "print(pet_list)"
   ]
  },
  {
   "cell_type": "markdown",
   "id": "c3b6ef43",
   "metadata": {},
   "source": [
    "How many grades does each student have? Do they all have the same number of grades?"
   ]
  },
  {
   "cell_type": "code",
   "execution_count": 28,
   "id": "846ea739",
   "metadata": {},
   "outputs": [
    {
     "name": "stdout",
     "output_type": "stream",
     "text": [
      "[('Ada Lovelace', 4), ('Thomas Bayes', 4), ('Marie Curie', 4), ('Grace Hopper', 4), ('Alan Turing', 4), ('Rosalind Franklin', 4), ('Elizabeth Blackwell', 4), ('Rene Descartes', 4), ('Ahmed Zewail', 4), ('Chien-Shiung Wu', 4), ('William Sanford Nye', 4), ('Carl Sagan', 4), ('Jane Goodall', 4), ('Richard Feynman', 4)]\n"
     ]
    }
   ],
   "source": [
    "number_of_grades_list = [(student['student'], len(student['grades'])) for student in students]\n",
    "print(number_of_grades_list) #Yes!"
   ]
  },
  {
   "cell_type": "markdown",
   "id": "3adb4be3",
   "metadata": {},
   "source": [
    "What is each student's grade average?"
   ]
  },
  {
   "cell_type": "code",
   "execution_count": 30,
   "id": "334ba02c",
   "metadata": {},
   "outputs": [
    {
     "ename": "SyntaxError",
     "evalue": "did you forget parentheses around the comprehension target? (2692398622.py, line 1)",
     "output_type": "error",
     "traceback": [
      "\u001b[0;36m  Cell \u001b[0;32mIn[30], line 1\u001b[0;36m\u001b[0m\n\u001b[0;31m    average_grade_list = [lambda x,y: x + y, ((student['grades']) / len(student['grades'])) for student in students]\u001b[0m\n\u001b[0m                          ^\u001b[0m\n\u001b[0;31mSyntaxError\u001b[0m\u001b[0;31m:\u001b[0m did you forget parentheses around the comprehension target?\n"
     ]
    }
   ],
   "source": [
    "average_grade_list = [lambda x,y: x + y, ((student['grades']) / len(student['grades'])) for student in students]"
   ]
  },
  {
   "cell_type": "markdown",
   "id": "a60b3355",
   "metadata": {},
   "source": [
    "How many pets does each student have?"
   ]
  },
  {
   "cell_type": "code",
   "execution_count": 33,
   "id": "db4f6324",
   "metadata": {},
   "outputs": [
    {
     "name": "stdout",
     "output_type": "stream",
     "text": [
      "[('Ada Lovelace', 1), ('Thomas Bayes', 0), ('Marie Curie', 1), ('Grace Hopper', 2), ('Alan Turing', 3), ('Rosalind Franklin', 0), ('Elizabeth Blackwell', 1), ('Rene Descartes', 2), ('Ahmed Zewail', 2), ('Chien-Shiung Wu', 1), ('William Sanford Nye', 2), ('Carl Sagan', 1), ('Jane Goodall', 1), ('Richard Feynman', 1)]\n"
     ]
    }
   ],
   "source": [
    "number_of_pets = [(student['student'], len(student['pets'])) for student in students]\n",
    "print(number_of_pets)"
   ]
  },
  {
   "cell_type": "markdown",
   "id": "a18c1308",
   "metadata": {},
   "source": [
    "How many students are in web development? data science?"
   ]
  },
  {
   "cell_type": "code",
   "execution_count": 36,
   "id": "c789ae67",
   "metadata": {},
   "outputs": [
    {
     "name": "stdout",
     "output_type": "stream",
     "text": [
      "7\n"
     ]
    }
   ],
   "source": [
    "number_web_development = [student['student'] for student in students if student['course'] == 'web development']\n",
    "print(len(number_web_development))"
   ]
  },
  {
   "cell_type": "code",
   "execution_count": 42,
   "id": "17958366",
   "metadata": {},
   "outputs": [
    {
     "name": "stdout",
     "output_type": "stream",
     "text": [
      "7\n"
     ]
    }
   ],
   "source": [
    "number_data_science = [student['student'] for student in students if student['course'] == 'data science']\n",
    "print(len(number_data_science))"
   ]
  },
  {
   "cell_type": "markdown",
   "id": "ae1e3334",
   "metadata": {},
   "source": [
    "What is the average number of pets for students in web development?"
   ]
  },
  {
   "cell_type": "code",
   "execution_count": 46,
   "id": "361edad8",
   "metadata": {},
   "outputs": [
    {
     "name": "stdout",
     "output_type": "stream",
     "text": [
      "1.2857142857142858\n"
     ]
    }
   ],
   "source": [
    "number_of_pets_web = [len(student['pets']) for student in students if student['course'] == 'web development']\n",
    "print(sum(number_of_pets_web)/len(number_of_pets_web))"
   ]
  },
  {
   "cell_type": "markdown",
   "id": "59a9b2ea",
   "metadata": {},
   "source": [
    "What is the average pet age for students in data science?"
   ]
  },
  {
   "cell_type": "code",
   "execution_count": null,
   "id": "d47b49a0",
   "metadata": {},
   "outputs": [],
   "source": []
  },
  {
   "cell_type": "markdown",
   "id": "a1d2d6f2",
   "metadata": {},
   "source": [
    "What is most frequent coffee preference for data science students?"
   ]
  },
  {
   "cell_type": "code",
   "execution_count": null,
   "id": "f1e355c9",
   "metadata": {},
   "outputs": [],
   "source": []
  },
  {
   "cell_type": "markdown",
   "id": "c2ef00a5",
   "metadata": {},
   "source": [
    "What is the least frequent coffee preference for web development students?"
   ]
  },
  {
   "cell_type": "code",
   "execution_count": null,
   "id": "88ac6e71",
   "metadata": {},
   "outputs": [],
   "source": []
  },
  {
   "cell_type": "markdown",
   "id": "1a0dff83",
   "metadata": {},
   "source": [
    "What is the average grade for students with at least 2 pets?"
   ]
  },
  {
   "cell_type": "code",
   "execution_count": null,
   "id": "70ba5ef9",
   "metadata": {},
   "outputs": [],
   "source": []
  },
  {
   "cell_type": "markdown",
   "id": "5b8fb1ec",
   "metadata": {},
   "source": [
    "How many students have 3 pets?"
   ]
  },
  {
   "cell_type": "code",
   "execution_count": null,
   "id": "19492215",
   "metadata": {},
   "outputs": [],
   "source": []
  },
  {
   "cell_type": "markdown",
   "id": "6ef0b11d",
   "metadata": {},
   "source": [
    "What is the average grade for students with 0 pets?"
   ]
  },
  {
   "cell_type": "code",
   "execution_count": null,
   "id": "2d65b7e5",
   "metadata": {},
   "outputs": [],
   "source": []
  },
  {
   "cell_type": "markdown",
   "id": "4d8ffd10",
   "metadata": {},
   "source": [
    "What is the average grade for web development students? data science students?"
   ]
  },
  {
   "cell_type": "code",
   "execution_count": null,
   "id": "56667e70",
   "metadata": {},
   "outputs": [],
   "source": []
  },
  {
   "cell_type": "markdown",
   "id": "1e70bfc4",
   "metadata": {},
   "source": [
    "What is the average grade range (i.e. highest grade - lowest grade) for dark coffee drinkers?"
   ]
  },
  {
   "cell_type": "code",
   "execution_count": null,
   "id": "727b7f93",
   "metadata": {},
   "outputs": [],
   "source": []
  },
  {
   "cell_type": "markdown",
   "id": "fb7aa440",
   "metadata": {},
   "source": [
    "What is the average number of pets for medium coffee drinkers?"
   ]
  },
  {
   "cell_type": "code",
   "execution_count": null,
   "id": "b60a859d",
   "metadata": {},
   "outputs": [],
   "source": []
  },
  {
   "cell_type": "markdown",
   "id": "26bb58f9",
   "metadata": {},
   "source": [
    "What is the most common type of pet for web development students?"
   ]
  },
  {
   "cell_type": "code",
   "execution_count": null,
   "id": "40be9ee1",
   "metadata": {},
   "outputs": [],
   "source": []
  },
  {
   "cell_type": "markdown",
   "id": "9c52cc10",
   "metadata": {},
   "source": [
    "What is the average name length?"
   ]
  },
  {
   "cell_type": "code",
   "execution_count": null,
   "id": "6d277264",
   "metadata": {},
   "outputs": [],
   "source": []
  },
  {
   "cell_type": "markdown",
   "id": "47b3eada",
   "metadata": {},
   "source": [
    "What is the highest pet age for light coffee drinkers?"
   ]
  },
  {
   "cell_type": "code",
   "execution_count": null,
   "id": "af14fc82",
   "metadata": {},
   "outputs": [],
   "source": []
  }
 ],
 "metadata": {
  "kernelspec": {
   "display_name": "Python 3 (ipykernel)",
   "language": "python",
   "name": "python3"
  },
  "language_info": {
   "codemirror_mode": {
    "name": "ipython",
    "version": 3
   },
   "file_extension": ".py",
   "mimetype": "text/x-python",
   "name": "python",
   "nbconvert_exporter": "python",
   "pygments_lexer": "ipython3",
   "version": "3.10.9"
  }
 },
 "nbformat": 4,
 "nbformat_minor": 5
}
